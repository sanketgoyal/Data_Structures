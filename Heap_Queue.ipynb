{
  "nbformat": 4,
  "nbformat_minor": 0,
  "metadata": {
    "colab": {
      "name": "Heap_Queue.ipynb",
      "version": "0.3.2",
      "provenance": [],
      "collapsed_sections": [],
      "include_colab_link": true
    },
    "kernelspec": {
      "name": "python3",
      "display_name": "Python 3"
    }
  },
  "cells": [
    {
      "cell_type": "markdown",
      "metadata": {
        "id": "view-in-github",
        "colab_type": "text"
      },
      "source": [
        "<a href=\"https://colab.research.google.com/github/sanketgoyal/Data_Structures/blob/master/Heap_Queue.ipynb\" target=\"_parent\"><img src=\"https://colab.research.google.com/assets/colab-badge.svg\" alt=\"Open In Colab\"/></a>"
      ]
    },
    {
      "cell_type": "code",
      "metadata": {
        "id": "S4MetZZE-_ac",
        "colab_type": "code",
        "outputId": "7c222905-f3c2-4c46-e173-20ba37eaa178",
        "colab": {
          "base_uri": "https://localhost:8080/",
          "height": 50
        }
      },
      "source": [
        "import heapq\n",
        "from random import randint\n",
        "\n",
        "def create_arr(length = 10, maxint = 50):\n",
        "  new_arr = [randint(0, maxint) for _ in range(length)]\n",
        "  return new_arr\n",
        "\n",
        "#Function 1: heapify(list), to arrange the list in heap format\n",
        "def heapify(arr):\n",
        "  heapq.heapify(arr)\n",
        "  return arr\n",
        "\n",
        "a = create_arr()\n",
        "print(a)\n",
        "\n",
        "b = heapify(a)\n",
        "print(b)"
      ],
      "execution_count": 0,
      "outputs": [
        {
          "output_type": "stream",
          "text": [
            "[35, 19, 45, 13, 21, 16, 5, 10, 15, 17]\n",
            "[5, 10, 16, 13, 17, 35, 45, 19, 15, 21]\n"
          ],
          "name": "stdout"
        }
      ]
    },
    {
      "cell_type": "code",
      "metadata": {
        "id": "x0KuJiaDRgMt",
        "colab_type": "code",
        "outputId": "e392c532-4b77-4967-97c1-f9c899809920",
        "colab": {
          "base_uri": "https://localhost:8080/",
          "height": 34
        }
      },
      "source": [
        "#Function 2: heappush(list, new_num), to add another number in the heap list\n",
        "def heappush(arr, new_num):\n",
        "  heapq.heappush(arr, new_num)\n",
        "  return arr\n",
        "\n",
        "c = heappush(b, 2)\n",
        "print(c)\n"
      ],
      "execution_count": 0,
      "outputs": [
        {
          "output_type": "stream",
          "text": [
            "[2, 5, 16, 13, 10, 35, 45, 19, 15, 21, 17]\n"
          ],
          "name": "stdout"
        }
      ]
    },
    {
      "cell_type": "code",
      "metadata": {
        "id": "mb8j3598P2DS",
        "colab_type": "code",
        "outputId": "3fece701-d502-4480-bf89-cef1a11ab7ec",
        "colab": {
          "base_uri": "https://localhost:8080/",
          "height": 34
        }
      },
      "source": [
        "#Function 3: heappop(list), to pop the smallest number\n",
        "def heappop(arr):\n",
        "  heapq.heappop(arr)\n",
        "  return heapq.heappop(arr)\n",
        "\n",
        "list = heappop(b)\n",
        "print(list)"
      ],
      "execution_count": 0,
      "outputs": [
        {
          "output_type": "stream",
          "text": [
            "5\n"
          ],
          "name": "stdout"
        }
      ]
    },
    {
      "cell_type": "code",
      "metadata": {
        "id": "lEgB1UrsQHpJ",
        "colab_type": "code",
        "outputId": "e06b0c0c-6ea0-428e-c036-5be3fb8484f3",
        "colab": {
          "base_uri": "https://localhost:8080/",
          "height": 34
        }
      },
      "source": [
        "\n",
        "#Function 4: heappushpop(list, new_num), element is pushed and the smallest one is popped\n",
        "def heappushpop(arr, new_num):\n",
        "  heapq.heappushpop(arr, new_num)\n",
        "  return arr\n",
        "\n",
        "list = heappushpop(b, 10)\n",
        "print(list)"
      ],
      "execution_count": 0,
      "outputs": [
        {
          "output_type": "stream",
          "text": [
            "[6, 10, 25, 50, 33, 45]\n"
          ],
          "name": "stdout"
        }
      ]
    },
    {
      "cell_type": "code",
      "metadata": {
        "id": "RI5XgVZXTCo4",
        "colab_type": "code",
        "outputId": "d1167fcc-b402-4bce-ec7b-6cbf3e2318ba",
        "colab": {
          "base_uri": "https://localhost:8080/",
          "height": 34
        }
      },
      "source": [
        "#Function 5: heapreplace(list, new_num), smallest is first popped then element is pushed\n",
        "def heapreplace(arr, new_num):\n",
        "  heapq.heapreplace(arr, new_num)\n",
        "  return arr\n",
        "\n",
        "list = heapreplace(b, 10)\n",
        "print(list)\n"
      ],
      "execution_count": 0,
      "outputs": [
        {
          "output_type": "stream",
          "text": [
            "[10, 10, 25, 50, 33, 45]\n"
          ],
          "name": "stdout"
        }
      ]
    },
    {
      "cell_type": "code",
      "metadata": {
        "id": "2WY9QxpvTf3c",
        "colab_type": "code",
        "outputId": "e97586f6-cb08-43b2-9bfd-88efe26bb8f6",
        "colab": {
          "base_uri": "https://localhost:8080/",
          "height": 34
        }
      },
      "source": [
        "#Function 6: heap.nlargest(k, list, key = function), to return the k largest elements. Dependent upon key (if specified).\n",
        "def heaplargest(k, arr):\n",
        "  \n",
        "  return heapq.nlargest(k, arr)\n",
        "\n",
        "list = heaplargest(2, b)\n",
        "print(list)"
      ],
      "execution_count": 0,
      "outputs": [
        {
          "output_type": "stream",
          "text": [
            "[50, 45]\n"
          ],
          "name": "stdout"
        }
      ]
    },
    {
      "cell_type": "code",
      "metadata": {
        "id": "XrU--Jc0UOFM",
        "colab_type": "code",
        "outputId": "9a3f6f75-60d6-48fb-c39c-9df6018bc32a",
        "colab": {
          "base_uri": "https://localhost:8080/",
          "height": 34
        }
      },
      "source": [
        "#Function 7: heap.nsmallest(k, list, key = function), to return the k smallest elements. Dependent upon key (if specified).\n",
        "def heapsmallest(k, arr):\n",
        "  \n",
        "  return heapq.nsmallest(k, arr)\n",
        "\n",
        "list = heapsmallest(2, b)\n",
        "print(list)"
      ],
      "execution_count": 0,
      "outputs": [
        {
          "output_type": "stream",
          "text": [
            "[10, 10]\n"
          ],
          "name": "stdout"
        }
      ]
    }
  ]
}